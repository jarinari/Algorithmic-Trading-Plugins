{
  "nbformat": 4,
  "nbformat_minor": 0,
  "metadata": {
    "colab": {
      "provenance": [],
      "include_colab_link": true
    },
    "kernelspec": {
      "name": "python3",
      "display_name": "Python 3"
    },
    "language_info": {
      "name": "python"
    }
  },
  "cells": [
    {
      "cell_type": "markdown",
      "metadata": {
        "id": "view-in-github",
        "colab_type": "text"
      },
      "source": [
        "<a href=\"https://colab.research.google.com/github/jarinari/Algorithmic-Trading-Plugins/blob/master/monkeys.ipynb\" target=\"_parent\"><img src=\"https://colab.research.google.com/assets/colab-badge.svg\" alt=\"Open In Colab\"/></a>"
      ]
    },
    {
      "cell_type": "markdown",
      "source": [
        "#INTRODUCCIÓN"
      ],
      "metadata": {
        "id": "uY3iky803_md"
      }
    },
    {
      "cell_type": "markdown",
      "source": [
        "La hipótesis es que en un activo con sesgo tendencial se gana dinero a largo plazo incluso por azar.\n",
        "\n",
        "Para comprobarlo se utilizarán las cotizaciones diarias de los últimos 30 años del SP500 y se simularán 1000 \"monos tirando dardos al azar\".\n",
        "\n",
        "Cada uno de los monos operará la mitad de los días y las operaciones durarán 1 día.\n",
        "\n",
        "Comprobaremos cuantos de estos monos ganan dinero a largo plazo y si existen monos que superen al benchmark."
      ],
      "metadata": {
        "id": "dyXUqEH24Dfd"
      }
    },
    {
      "cell_type": "markdown",
      "source": [
        "#ENTORNO"
      ],
      "metadata": {
        "id": "srNUkafo4p4T"
      }
    },
    {
      "cell_type": "markdown",
      "source": [
        "##LIBRERÍAS"
      ],
      "metadata": {
        "id": "9DnEkNsnuinc"
      }
    },
    {
      "cell_type": "code",
      "source": [
        "import yfinance as yf\n",
        "import pandas as pd\n",
        "import numpy as np\n",
        "from datetime import datetime, timedelta\n",
        "import matplotlib.pyplot as plt\n",
        "import random\n",
        "import warnings\n",
        "warnings.filterwarnings('ignore')"
      ],
      "metadata": {
        "id": "GGBPh5q_3_CN"
      },
      "execution_count": null,
      "outputs": []
    },
    {
      "cell_type": "markdown",
      "source": [
        "##FUNCIONES"
      ],
      "metadata": {
        "id": "oCu2ZJjxulFr"
      }
    },
    {
      "cell_type": "code",
      "source": [
        "#FUNCIÓN PARA GENERAR MONOS\n",
        "\n",
        "def mono(data):\n",
        "  \"\"\"\n",
        "  Genera una estrategia de \"monos\" basada en datos de entrada.\n",
        "\n",
        "  Args:\n",
        "    data (pandas.DataFrame): Datos de entrada que contienen una columna \"Returns\".\n",
        "\n",
        "  Returns:\n",
        "    pandas.Series: Una serie que representa la estrategia generada por los \"monos\".\n",
        "  \"\"\"\n",
        "\n",
        "  #Copiar los datos de entrada para evitar modificar el DataFrame original\n",
        "  df = data.copy()\n",
        "\n",
        "  #Crear lista para almacenar los índices seleccionados aleatoriamente\n",
        "  indexes = []\n",
        "\n",
        "  #Generar la mitad de la longitud de los datos redondeada\n",
        "  for n in range(round(len(df) / 2)):\n",
        "    #Seleccionar un índice aleatorio dentro del rango de la columna \"Returns\"\n",
        "    rindex = random.randrange(len(df[\"Returns\"]))\n",
        "    indexes.append(rindex)\n",
        "\n",
        "  #Obtener los índices únicos para evitar duplicados\n",
        "  indexes = np.unique(indexes)\n",
        "\n",
        "  #Inicializar la columna \"Strategy\" con valores de 0\n",
        "  df[\"Strategy\"] = 0\n",
        "\n",
        "  #Asignar los valores de \"Returns\" a la columna \"Strategy\" en los índices seleccionados\n",
        "  for i in indexes:\n",
        "    df.iloc[i, -1] = df[\"Returns\"][i]\n",
        "\n",
        "  #Calcular la suma acumulativa de la columna \"Strategy\"\n",
        "  df[\"Strategy\"] = df[\"Strategy\"].cumsum()\n",
        "\n",
        "  return df[\"Strategy\"]"
      ],
      "metadata": {
        "id": "NENpnJtHuqoj"
      },
      "execution_count": null,
      "outputs": []
    },
    {
      "cell_type": "markdown",
      "source": [
        "#DATASET"
      ],
      "metadata": {
        "id": "PvnSTg0W3-k_"
      }
    },
    {
      "cell_type": "markdown",
      "source": [
        "Usamos la librería yahoo_finance para descargar los datos históricos del SP500."
      ],
      "metadata": {
        "id": "CY4BBayZuC1k"
      }
    },
    {
      "cell_type": "code",
      "source": [
        "#OBTENCIÓN DE LAS COTIZACIONES HISTÓRICAS\n",
        "\n",
        "#Descargar datos\n",
        "data = yf.download(\"^GSPC\", start=\"1993-01-01\", end=\"2023-01-01\", progress=False)\n",
        "\n",
        "#Calcular retornos\n",
        "data[\"Returns\"] = data[\"Close\"].pct_change()*100\n",
        "data.dropna()\n",
        "\n",
        "#Graficar evolución de la cotización\n",
        "plt.plot(data[\"Close\"])\n",
        "plt.show()"
      ],
      "metadata": {
        "colab": {
          "base_uri": "https://localhost:8080/",
          "height": 434
        },
        "id": "RmwcNuNw5LB6",
        "outputId": "cfcb39e3-964b-4436-eb9c-e8950c617e52"
      },
      "execution_count": null,
      "outputs": [
        {
          "output_type": "display_data",
          "data": {
            "text/plain": [
              "<Figure size 640x480 with 1 Axes>"
            ],
            "image/png": "[encoded data removed]"
          },
          "metadata": {}
        }
      ]
    },
    {
      "cell_type": "markdown",
      "source": [
        "#MONOS"
      ],
      "metadata": {
        "id": "RVl6c8N1DsQR"
      }
    },
    {
      "cell_type": "code",
      "source": [
        "#GENERACIÓN DE 1000 MONOS\n",
        "\n",
        "#Generar monos\n",
        "monos = []\n",
        "for n in range(1000):\n",
        "  monos.append(mono(data))\n",
        "\n",
        "#Poner nombre a cada mono\n",
        "names = []\n",
        "for n in range(1000):\n",
        "  names.append(\"S_\"+str(n))\n",
        "\n",
        "#Concatenar monos en un dataframe\n",
        "df_monos = pd.concat(monos, axis=1)\n",
        "df_monos.columns = names\n",
        "\n",
        "df_monos"
      ],
      "metadata": {
        "id": "qxAMsmfkER1e",
        "colab": {
          "base_uri": "https://localhost:8080/",
          "height": 519
        },
        "outputId": "5b72cf40-b981-46e8-8538-d4ad043d601b"
      },
      "execution_count": null,
      "outputs": [
        {
          "output_type": "execute_result",
          "data": {
            "text/plain": [
              "                   S_0         S_1         S_2         S_3         S_4  \\\n",
              "Date                                                                     \n",
              "1993-01-04         NaN         NaN    0.000000    0.000000    0.000000   \n",
              "1993-01-05   -0.238874   -0.238874    0.000000    0.000000    0.000000   \n",
              "1993-01-06   -0.197433   -0.238874    0.000000    0.000000    0.000000   \n",
              "1993-01-07   -0.197433   -1.111096    0.000000    0.000000   -0.872222   \n",
              "1993-01-08   -0.197433   -1.501136   -0.390041    0.000000   -1.262263   \n",
              "...                ...         ...         ...         ...         ...   \n",
              "2022-12-23  145.198211  113.593464  147.146291  146.268969  134.854133   \n",
              "2022-12-27  145.198211  113.188502  146.741328  145.864007  134.854133   \n",
              "2022-12-28  145.198211  111.986438  146.741328  145.864007  134.854133   \n",
              "2022-12-29  146.944344  111.986438  146.741328  145.864007  134.854133   \n",
              "2022-12-30  146.944344  111.986438  146.741328  145.609933  134.854133   \n",
              "\n",
              "                   S_5        S_6        S_7         S_8        S_9  ...  \\\n",
              "Date                                                                 ...   \n",
              "1993-01-04         NaN   0.000000   0.000000    0.000000        NaN  ...   \n",
              "1993-01-05   -0.238874  -0.238874  -0.238874   -0.238874   0.000000  ...   \n",
              "1993-01-06   -0.197433  -0.197433  -0.238874   -0.238874   0.041441  ...   \n",
              "1993-01-07   -0.197433  -1.069655  -1.111096   -0.238874   0.041441  ...   \n",
              "1993-01-08   -0.587474  -1.459696  -1.111096   -0.238874   0.041441  ...   \n",
              "...                ...        ...        ...         ...        ...  ...   \n",
              "2022-12-23  163.240706  41.367716 -33.258507  143.580074  35.718223  ...   \n",
              "2022-12-27  163.240706  40.962754 -33.258507  143.580074  35.718223  ...   \n",
              "2022-12-28  162.038642  40.962754 -33.258507  143.580074  35.718223  ...   \n",
              "2022-12-29  163.784776  40.962754 -33.258507  143.580074  37.464356  ...   \n",
              "2022-12-30  163.784776  40.708680 -33.258507  143.580074  37.210282  ...   \n",
              "\n",
              "                S_990       S_991       S_992       S_993      S_994  \\\n",
              "Date                                                                   \n",
              "1993-01-04   0.000000    0.000000         NaN         NaN   0.000000   \n",
              "1993-01-05   0.000000   -0.238874    0.000000   -0.238874  -0.238874   \n",
              "1993-01-06   0.041441   -0.197433    0.041441   -0.197433  -0.197433   \n",
              "1993-01-07   0.041441   -1.069655    0.041441   -0.197433  -1.069655   \n",
              "1993-01-08   0.041441   -1.069655    0.041441   -0.197433  -1.459696   \n",
              "...               ...         ...         ...         ...        ...   \n",
              "2022-12-23  75.130657  143.808275  127.023503  117.898866  88.403581   \n",
              "2022-12-27  75.130657  143.808275  126.618541  117.898866  88.403581   \n",
              "2022-12-28  75.130657  143.808275  125.416477  116.696802  88.403581   \n",
              "2022-12-29  76.876790  143.808275  125.416477  116.696802  90.149714   \n",
              "2022-12-30  76.876790  143.808275  125.162403  116.696802  90.149714   \n",
              "\n",
              "                 S_995       S_996       S_997       S_998       S_999  \n",
              "Date                                                                    \n",
              "1993-01-04         NaN         NaN    0.000000    0.000000    0.000000  \n",
              "1993-01-05   -0.238874   -0.238874   -0.238874    0.000000    0.000000  \n",
              "1993-01-06   -0.238874   -0.238874   -0.197433    0.041441    0.000000  \n",
              "1993-01-07   -1.111096   -1.111096   -0.197433   -0.830781    0.000000  \n",
              "1993-01-08   -1.111096   -1.501136   -0.587474   -1.220822   -0.390041  \n",
              "...                ...         ...         ...         ...         ...  \n",
              "2022-12-23  144.032494  157.724629  119.071664  173.156384  255.428946  \n",
              "2022-12-27  143.627532  157.319667  118.666702  173.156384  255.428946  \n",
              "2022-12-28  143.627532  157.319667  117.464638  173.156384  254.226882  \n",
              "2022-12-29  145.373665  159.065800  117.464638  173.156384  255.973015  \n",
              "2022-12-30  145.119591  159.065800  117.464638  173.156384  255.973015  \n",
              "\n",
              "[7555 rows x 1000 columns]"
            ],
            "text/html": [
              "\n",
              "  <div id=\"df-db28af63-9b45-4052-ac5a-b5f3f99c2c17\">\n",
              "    <div class=\"colab-df-container\">\n",
              "      <div>\n",
              "<style scoped>\n",
              "    .dataframe tbody tr th:only-of-type {\n",
              "        vertical-align: middle;\n",
              "    }\n",
              "\n",
              "    .dataframe tbody tr th {\n",
              "        vertical-align: top;\n",
              "    }\n",
              "\n",
              "    .dataframe thead th {\n",
              "        text-align: right;\n",
              "    }\n",
              "</style>\n",
              "<table border=\"1\" class=\"dataframe\">\n",
              "  <thead>\n",
              "    <tr style=\"text-align: right;\">\n",
              "      <th></th>\n",
              "      <th>S_0</th>\n",
              "      <th>S_1</th>\n",
              "      <th>S_2</th>\n",
              "      <th>S_3</th>\n",
              "      <th>S_4</th>\n",
              "      <th>S_5</th>\n",
              "      <th>S_6</th>\n",
              "      <th>S_7</th>\n",
              "      <th>S_8</th>\n",
              "      <th>S_9</th>\n",
              "      <th>...</th>\n",
              "      <th>S_990</th>\n",
              "      <th>S_991</th>\n",
              "      <th>S_992</th>\n",
              "      <th>S_993</th>\n",
              "      <th>S_994</th>\n",
              "      <th>S_995</th>\n",
              "      <th>S_996</th>\n",
              "      <th>S_997</th>\n",
              "      <th>S_998</th>\n",
              "      <th>S_999</th>\n",
              "    </tr>\n",
              "    <tr>\n",
              "      <th>Date</th>\n",
              "      <th></th>\n",
              "      <th></th>\n",
              "      <th></th>\n",
              "      <th></th>\n",
              "      <th></th>\n",
              "      <th></th>\n",
              "      <th></th>\n",
              "      <th></th>\n",
              "      <th></th>\n",
              "      <th></th>\n",
              "      <th></th>\n",
              "      <th></th>\n",
              "      <th></th>\n",
              "      <th></th>\n",
              "      <th></th>\n",
              "      <th></th>\n",
              "      <th></th>\n",
              "      <th></th>\n",
              "      <th></th>\n",
              "      <th></th>\n",
              "      <th></th>\n",
              "    </tr>\n",
              "  </thead>\n",
              "  <tbody>\n",
              "    <tr>\n",
              "      <th>1993-01-04</th>\n",
              "      <td>NaN</td>\n",
              "      <td>NaN</td>\n",
              "      <td>0.000000</td>\n",
              "      <td>0.000000</td>\n",
              "      <td>0.000000</td>\n",
              "      <td>NaN</td>\n",
              "      <td>0.000000</td>\n",
              "      <td>0.000000</td>\n",
              "      <td>0.000000</td>\n",
              "      <td>NaN</td>\n",
              "      <td>...</td>\n",
              "      <td>0.000000</td>\n",
              "      <td>0.000000</td>\n",
              "      <td>NaN</td>\n",
              "      <td>NaN</td>\n",
              "      <td>0.000000</td>\n",
              "      <td>NaN</td>\n",
              "      <td>NaN</td>\n",
              "      <td>0.000000</td>\n",
              "      <td>0.000000</td>\n",
              "      <td>0.000000</td>\n",
              "    </tr>\n",
              "    <tr>\n",
              "      <th>1993-01-05</th>\n",
              "      <td>-0.238874</td>\n",
              "      <td>-0.238874</td>\n",
              "      <td>0.000000</td>\n",
              "      <td>0.000000</td>\n",
              "      <td>0.000000</td>\n",
              "      <td>-0.238874</td>\n",
              "      <td>-0.238874</td>\n",
              "      <td>-0.238874</td>\n",
              "      <td>-0.238874</td>\n",
              "      <td>0.000000</td>\n",
              "      <td>...</td>\n",
              "      <td>0.000000</td>\n",
              "      <td>-0.238874</td>\n",
              "      <td>0.000000</td>\n",
              "      <td>-0.238874</td>\n",
              "      <td>-0.238874</td>\n",
              "      <td>-0.238874</td>\n",
              "      <td>-0.238874</td>\n",
              "      <td>-0.238874</td>\n",
              "      <td>0.000000</td>\n",
              "      <td>0.000000</td>\n",
              "    </tr>\n",
              "    <tr>\n",
              "      <th>1993-01-06</th>\n",
              "      <td>-0.197433</td>\n",
              "      <td>-0.238874</td>\n",
              "      <td>0.000000</td>\n",
              "      <td>0.000000</td>\n",
              "      <td>0.000000</td>\n",
              "      <td>-0.197433</td>\n",
              "      <td>-0.197433</td>\n",
              "      <td>-0.238874</td>\n",
              "      <td>-0.238874</td>\n",
              "      <td>0.041441</td>\n",
              "      <td>...</td>\n",
              "      <td>0.041441</td>\n",
              "      <td>-0.197433</td>\n",
              "      <td>0.041441</td>\n",
              "      <td>-0.197433</td>\n",
              "      <td>-0.197433</td>\n",
              "      <td>-0.238874</td>\n",
              "      <td>-0.238874</td>\n",
              "      <td>-0.197433</td>\n",
              "      <td>0.041441</td>\n",
              "      <td>0.000000</td>\n",
              "    </tr>\n",
              "    <tr>\n",
              "      <th>1993-01-07</th>\n",
              "      <td>-0.197433</td>\n",
              "      <td>-1.111096</td>\n",
              "      <td>0.000000</td>\n",
              "      <td>0.000000</td>\n",
              "      <td>-0.872222</td>\n",
              "      <td>-0.197433</td>\n",
              "      <td>-1.069655</td>\n",
              "      <td>-1.111096</td>\n",
              "      <td>-0.238874</td>\n",
              "      <td>0.041441</td>\n",
              "      <td>...</td>\n",
              "      <td>0.041441</td>\n",
              "      <td>-1.069655</td>\n",
              "      <td>0.041441</td>\n",
              "      <td>-0.197433</td>\n",
              "      <td>-1.069655</td>\n",
              "      <td>-1.111096</td>\n",
              "      <td>-1.111096</td>\n",
              "      <td>-0.197433</td>\n",
              "      <td>-0.830781</td>\n",
              "      <td>0.000000</td>\n",
              "    </tr>\n",
              "    <tr>\n",
              "      <th>1993-01-08</th>\n",
              "      <td>-0.197433</td>\n",
              "      <td>-1.501136</td>\n",
              "      <td>-0.390041</td>\n",
              "      <td>0.000000</td>\n",
              "      <td>-1.262263</td>\n",
              "      <td>-0.587474</td>\n",
              "      <td>-1.459696</td>\n",
              "      <td>-1.111096</td>\n",
              "      <td>-0.238874</td>\n",
              "      <td>0.041441</td>\n",
              "      <td>...</td>\n",
              "      <td>0.041441</td>\n",
              "      <td>-1.069655</td>\n",
              "      <td>0.041441</td>\n",
              "      <td>-0.197433</td>\n",
              "      <td>-1.459696</td>\n",
              "      <td>-1.111096</td>\n",
              "      <td>-1.501136</td>\n",
              "      <td>-0.587474</td>\n",
              "      <td>-1.220822</td>\n",
              "      <td>-0.390041</td>\n",
              "    </tr>\n",
              "    <tr>\n",
              "      <th>...</th>\n",
              "      <td>...</td>\n",
              "      <td>...</td>\n",
              "      <td>...</td>\n",
              "      <td>...</td>\n",
              "      <td>...</td>\n",
              "      <td>...</td>\n",
              "      <td>...</td>\n",
              "      <td>...</td>\n",
              "      <td>...</td>\n",
              "      <td>...</td>\n",
              "      <td>...</td>\n",
              "      <td>...</td>\n",
              "      <td>...</td>\n",
              "      <td>...</td>\n",
              "      <td>...</td>\n",
              "      <td>...</td>\n",
              "      <td>...</td>\n",
              "      <td>...</td>\n",
              "      <td>...</td>\n",
              "      <td>...</td>\n",
              "      <td>...</td>\n",
              "    </tr>\n",
              "    <tr>\n",
              "      <th>2022-12-23</th>\n",
              "      <td>145.198211</td>\n",
              "      <td>113.593464</td>\n",
              "      <td>147.146291</td>\n",
              "      <td>146.268969</td>\n",
              "      <td>134.854133</td>\n",
              "      <td>163.240706</td>\n",
              "      <td>41.367716</td>\n",
              "      <td>-33.258507</td>\n",
              "      <td>143.580074</td>\n",
              "      <td>35.718223</td>\n",
              "      <td>...</td>\n",
              "      <td>75.130657</td>\n",
              "      <td>143.808275</td>\n",
              "      <td>127.023503</td>\n",
              "      <td>117.898866</td>\n",
              "      <td>88.403581</td>\n",
              "      <td>144.032494</td>\n",
              "      <td>157.724629</td>\n",
              "      <td>119.071664</td>\n",
              "      <td>173.156384</td>\n",
              "      <td>255.428946</td>\n",
              "    </tr>\n",
              "    <tr>\n",
              "      <th>2022-12-27</th>\n",
              "      <td>145.198211</td>\n",
              "      <td>113.188502</td>\n",
              "      <td>146.741328</td>\n",
              "      <td>145.864007</td>\n",
              "      <td>134.854133</td>\n",
              "      <td>163.240706</td>\n",
              "      <td>40.962754</td>\n",
              "      <td>-33.258507</td>\n",
              "      <td>143.580074</td>\n",
              "      <td>35.718223</td>\n",
              "      <td>...</td>\n",
              "      <td>75.130657</td>\n",
              "      <td>143.808275</td>\n",
              "      <td>126.618541</td>\n",
              "      <td>117.898866</td>\n",
              "      <td>88.403581</td>\n",
              "      <td>143.627532</td>\n",
              "      <td>157.319667</td>\n",
              "      <td>118.666702</td>\n",
              "      <td>173.156384</td>\n",
              "      <td>255.428946</td>\n",
              "    </tr>\n",
              "    <tr>\n",
              "      <th>2022-12-28</th>\n",
              "      <td>145.198211</td>\n",
              "      <td>111.986438</td>\n",
              "      <td>146.741328</td>\n",
              "      <td>145.864007</td>\n",
              "      <td>134.854133</td>\n",
              "      <td>162.038642</td>\n",
              "      <td>40.962754</td>\n",
              "      <td>-33.258507</td>\n",
              "      <td>143.580074</td>\n",
              "      <td>35.718223</td>\n",
              "      <td>...</td>\n",
              "      <td>75.130657</td>\n",
              "      <td>143.808275</td>\n",
              "      <td>125.416477</td>\n",
              "      <td>116.696802</td>\n",
              "      <td>88.403581</td>\n",
              "      <td>143.627532</td>\n",
              "      <td>157.319667</td>\n",
              "      <td>117.464638</td>\n",
              "      <td>173.156384</td>\n",
              "      <td>254.226882</td>\n",
              "    </tr>\n",
              "    <tr>\n",
              "      <th>2022-12-29</th>\n",
              "      <td>146.944344</td>\n",
              "      <td>111.986438</td>\n",
              "      <td>146.741328</td>\n",
              "      <td>145.864007</td>\n",
              "      <td>134.854133</td>\n",
              "      <td>163.784776</td>\n",
              "      <td>40.962754</td>\n",
              "      <td>-33.258507</td>\n",
              "      <td>143.580074</td>\n",
              "      <td>37.464356</td>\n",
              "      <td>...</td>\n",
              "      <td>76.876790</td>\n",
              "      <td>143.808275</td>\n",
              "      <td>125.416477</td>\n",
              "      <td>116.696802</td>\n",
              "      <td>90.149714</td>\n",
              "      <td>145.373665</td>\n",
              "      <td>159.065800</td>\n",
              "      <td>117.464638</td>\n",
              "      <td>173.156384</td>\n",
              "      <td>255.973015</td>\n",
              "    </tr>\n",
              "    <tr>\n",
              "      <th>2022-12-30</th>\n",
              "      <td>146.944344</td>\n",
              "      <td>111.986438</td>\n",
              "      <td>146.741328</td>\n",
              "      <td>145.609933</td>\n",
              "      <td>134.854133</td>\n",
              "      <td>163.784776</td>\n",
              "      <td>40.708680</td>\n",
              "      <td>-33.258507</td>\n",
              "      <td>143.580074</td>\n",
              "      <td>37.210282</td>\n",
              "      <td>...</td>\n",
              "      <td>76.876790</td>\n",
              "      <td>143.808275</td>\n",
              "      <td>125.162403</td>\n",
              "      <td>116.696802</td>\n",
              "      <td>90.149714</td>\n",
              "      <td>145.119591</td>\n",
              "      <td>159.065800</td>\n",
              "      <td>117.464638</td>\n",
              "      <td>173.156384</td>\n",
              "      <td>255.973015</td>\n",
              "    </tr>\n",
              "  </tbody>\n",
              "</table>\n",
              "<p>7555 rows × 1000 columns</p>\n",
              "</div>\n",
              "      <button class=\"colab-df-convert\" onclick=\"convertToInteractive('df-db28af63-9b45-4052-ac5a-b5f3f99c2c17')\"\n",
              "              title=\"Convert this dataframe to an interactive table.\"\n",
              "              style=\"display:none;\">\n",
              "        \n",
              "  <svg xmlns=\"http://www.w3.org/2000/svg\" height=\"24px\"viewBox=\"0 0 24 24\"\n",
              "       width=\"24px\">\n",
              "    <path d=\"M0 0h24v24H0V0z\" fill=\"none\"/>\n",
              "    <path d=\"M18.56 5.44l.94 2.06.94-2.06 2.06-.94-2.06-.94-.94-2.06-.94 2.06-2.06.94zm-11 1L8.5 8.5l.94-2.06 2.06-.94-2.06-.94L8.5 2.5l-.94 2.06-2.06.94zm10 10l.94 2.06.94-2.06 2.06-.94-2.06-.94-.94-2.06-.94 2.06-2.06.94z\"/><path d=\"M17.41 7.96l-1.37-1.37c-.4-.4-.92-.59-1.43-.59-.52 0-1.04.2-1.43.59L10.3 9.45l-7.72 7.72c-.78.78-.78 2.05 0 2.83L4 21.41c.39.39.9.59 1.41.59.51 0 1.02-.2 1.41-.59l7.78-7.78 2.81-2.81c.8-.78.8-2.07 0-2.86zM5.41 20L4 18.59l7.72-7.72 1.47 1.35L5.41 20z\"/>\n",
              "  </svg>\n",
              "      </button>\n",
              "      \n",
              "  <style>\n",
              "    .colab-df-container {\n",
              "      display:flex;\n",
              "      flex-wrap:wrap;\n",
              "      gap: 12px;\n",
              "    }\n",
              "\n",
              "    .colab-df-convert {\n",
              "      background-color: #E8F0FE;\n",
              "      border: none;\n",
              "      border-radius: 50%;\n",
              "      cursor: pointer;\n",
              "      display: none;\n",
              "      fill: #1967D2;\n",
              "      height: 32px;\n",
              "      padding: 0 0 0 0;\n",
              "      width: 32px;\n",
              "    }\n",
              "\n",
              "    .colab-df-convert:hover {\n",
              "      background-color: #E2EBFA;\n",
              "      box-shadow: 0px 1px 2px rgba(60, 64, 67, 0.3), 0px 1px 3px 1px rgba(60, 64, 67, 0.15);\n",
              "      fill: #174EA6;\n",
              "    }\n",
              "\n",
              "    [theme=dark] .colab-df-convert {\n",
              "      background-color: #3B4455;\n",
              "      fill: #D2E3FC;\n",
              "    }\n",
              "\n",
              "    [theme=dark] .colab-df-convert:hover {\n",
              "      background-color: #434B5C;\n",
              "      box-shadow: 0px 1px 3px 1px rgba(0, 0, 0, 0.15);\n",
              "      filter: drop-shadow(0px 1px 2px rgba(0, 0, 0, 0.3));\n",
              "      fill: #FFFFFF;\n",
              "    }\n",
              "  </style>\n",
              "\n",
              "      <script>\n",
              "        const buttonEl =\n",
              "          document.querySelector('#df-db28af63-9b45-4052-ac5a-b5f3f99c2c17 button.colab-df-convert');\n",
              "        buttonEl.style.display =\n",
              "          google.colab.kernel.accessAllowed ? 'block' : 'none';\n",
              "\n",
              "        async function convertToInteractive(key) {\n",
              "          const element = document.querySelector('#df-db28af63-9b45-4052-ac5a-b5f3f99c2c17');\n",
              "          const dataTable =\n",
              "            await google.colab.kernel.invokeFunction('convertToInteractive',\n",
              "                                                     [key], {});\n",
              "          if (!dataTable) return;\n",
              "\n",
              "          const docLinkHtml = 'Like what you see? Visit the ' +\n",
              "            '<a target=\"_blank\" href=https://colab.research.google.com/notebooks/data_table.ipynb>data table notebook</a>'\n",
              "            + ' to learn more about interactive tables.';\n",
              "          element.innerHTML = '';\n",
              "          dataTable['output_type'] = 'display_data';\n",
              "          await google.colab.output.renderOutput(dataTable, element);\n",
              "          const docLink = document.createElement('div');\n",
              "          docLink.innerHTML = docLinkHtml;\n",
              "          element.appendChild(docLink);\n",
              "        }\n",
              "      </script>\n",
              "    </div>\n",
              "  </div>\n",
              "  "
            ]
          },
          "metadata": {},
          "execution_count": 14
        }
      ]
    },
    {
      "cell_type": "markdown",
      "source": [
        "#BENCHMARK"
      ],
      "metadata": {
        "id": "FcRQsFM0R5WG"
      }
    },
    {
      "cell_type": "markdown",
      "source": [
        "El benchmark será el retorno diario acumulado del SP500 sin reinversión."
      ],
      "metadata": {
        "id": "Sax5Ioq9zqfg"
      }
    },
    {
      "cell_type": "code",
      "source": [
        "#CÁLCULO DEL BENCHMARK\n",
        "\n",
        "#Copiar el dataframe original\n",
        "df = data.copy()\n",
        "\n",
        "#Calcular retorno acumulado\n",
        "df[\"Benchmark\"] = df[\"Returns\"].cumsum()"
      ],
      "metadata": {
        "id": "cWyBtOK519-f"
      },
      "execution_count": null,
      "outputs": []
    },
    {
      "cell_type": "markdown",
      "source": [
        "#RESULTADOS"
      ],
      "metadata": {
        "id": "CJaj0U3c2xZe"
      }
    },
    {
      "cell_type": "markdown",
      "source": [
        "##GRÁFICO"
      ],
      "metadata": {
        "id": "vuzoIQev25EW"
      }
    },
    {
      "cell_type": "code",
      "source": [
        "#REPRESENTACIÓN GRÁFICA\n",
        "\n",
        "#Graficar los monos y el benchmark\n",
        "for n in range(1000):\n",
        "  plt.plot(df_monos[\"S_\"+str(n)], c=\"red\")\n",
        "plt.plot(df[\"Benchmark\"], c=\"green\")\n",
        "plt.show()"
      ],
      "metadata": {
        "colab": {
          "base_uri": "https://localhost:8080/",
          "height": 430
        },
        "id": "4oZt8cB3LSl2",
        "outputId": "99211aa3-573a-458f-b06c-e3bdf38ca331"
      },
      "execution_count": null,
      "outputs": [
        {
          "output_type": "display_data",
          "data": {
            "text/plain": [
              "<Figure size 640x480 with 1 Axes>"
            ],
            "image/png": "[encoded data removed]"
          },
          "metadata": {}
        }
      ]
    },
    {
      "cell_type": "markdown",
      "source": [
        "##HISTOGRAMA"
      ],
      "metadata": {
        "id": "MAeq61jA3AFN"
      }
    },
    {
      "cell_type": "code",
      "source": [
        "#HISTOGRAMA DE CURVAS\n",
        "\n",
        "#Generar histograma de los retornos acumulados de los monos\n",
        "curvas = []\n",
        "for n in range(1000):\n",
        "  curvas.append(df_monos[\"S_\"+str(n)][-1])\n",
        "\n",
        "plt.hist(curvas)\n",
        "plt.show()"
      ],
      "metadata": {
        "colab": {
          "base_uri": "https://localhost:8080/",
          "height": 430
        },
        "id": "hXmJJSFkUKLg",
        "outputId": "6da682f0-102d-432e-c7f8-30c4d8b79818"
      },
      "execution_count": null,
      "outputs": [
        {
          "output_type": "display_data",
          "data": {
            "text/plain": [
              "<Figure size 640x480 with 1 Axes>"
            ],
            "image/png": "[encoded data removed]"
          },
          "metadata": {}
        }
      ]
    },
    {
      "cell_type": "markdown",
      "source": [
        "##PORCENTAJES"
      ],
      "metadata": {
        "id": "5LxDAzpT3rll"
      }
    },
    {
      "cell_type": "code",
      "source": [
        "#CÁLCULO DE MONOS QUE SUPERAN AL BENCHMARK\n",
        "\n",
        "#Calcular porcentaje de monos que superan al benchmark\n",
        "winners = []\n",
        "for curva in curvas:\n",
        "  if curva>df[\"Benchmark\"][-1]:\n",
        "    winners.append(curva)\n",
        "\n",
        "print(\"Monos que superan al bencharmk: \", len(winners)*100/1000, \"%\")"
      ],
      "metadata": {
        "colab": {
          "base_uri": "https://localhost:8080/"
        },
        "id": "2WbTUH2LVb_8",
        "outputId": "04412184-0ce5-47a3-be23-be9aedbe770f"
      },
      "execution_count": null,
      "outputs": [
        {
          "output_type": "stream",
          "name": "stdout",
          "text": [
            "Monos que superan al bencharmk:  0.0 %\n"
          ]
        }
      ]
    },
    {
      "cell_type": "code",
      "source": [
        "#CÁLCULO DE MONOS QUE TIENEN PÉRDIDAS\n",
        "\n",
        "#Calcular monos que tienen pérdidas\n",
        "losers = []\n",
        "for curva in curvas:\n",
        "  if curva<0:\n",
        "    losers.append(curva)\n",
        "\n",
        "print(\"Monos que tienen pérdidas: \", len(losers)*100/1000, \"%\")"
      ],
      "metadata": {
        "colab": {
          "base_uri": "https://localhost:8080/"
        },
        "id": "Hqs0NbMwVuKT",
        "outputId": "06c9af6c-7892-497d-d21a-9d4d52b4992d"
      },
      "execution_count": null,
      "outputs": [
        {
          "output_type": "stream",
          "name": "stdout",
          "text": [
            "Monos que tienen pérdidas:  1.7 %\n"
          ]
        }
      ]
    },
    {
      "cell_type": "code",
      "source": [
        "#CÁLCULO DE MONOS QUE OBTIENEN BENEFICIOS\n",
        "survivors = []\n",
        "for curva in curvas:\n",
        "  if curva>0:\n",
        "    survivors.append(curva)\n",
        "\n",
        "print(\"Monos que tienen beneficio: \", len(survivors)*100/1000, \"%\")"
      ],
      "metadata": {
        "colab": {
          "base_uri": "https://localhost:8080/"
        },
        "id": "u3tb_-j238F1",
        "outputId": "2813117b-e8cb-4e12-dba6-b2123d82e907"
      },
      "execution_count": null,
      "outputs": [
        {
          "output_type": "stream",
          "name": "stdout",
          "text": [
            "Monos que tienen beneficio:  98.3 %\n"
          ]
        }
      ]
    }
  ]
}