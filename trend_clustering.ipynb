{
  "nbformat": 4,
  "nbformat_minor": 0,
  "metadata": {
    "colab": {
      "provenance": [],
      "collapsed_sections": [
        "pndyYpNtiVG8"
      ],
      "include_colab_link": true
    },
    "kernelspec": {
      "name": "python3",
      "display_name": "Python 3"
    },
    "language_info": {
      "name": "python"
    }
  },
  "cells": [
    {
      "cell_type": "markdown",
      "metadata": {
        "id": "view-in-github",
        "colab_type": "text"
      },
      "source": [
        "<a href=\"https://colab.research.google.com/github/jarinari/Algorithmic-Trading-Plugins/blob/master/trend_clustering.ipynb\" target=\"_parent\"><img src=\"https://colab.research.google.com/assets/colab-badge.svg\" alt=\"Open In Colab\"/></a>"
      ]
    },
    {
      "cell_type": "markdown",
      "source": [
        "#INTRODUCCIÓN"
      ],
      "metadata": {
        "id": "OmVOi0ojgtgH"
      }
    },
    {
      "cell_type": "markdown",
      "source": [
        "¿Es posible desarrollar un detector de tendencias sólo con un indicador y clusterización?\n",
        "\n",
        "Se va a comprobar si es posible con el Williams %R, que no es más que una normalización del precio.\n",
        "\n",
        "La hipótesis es que si el indicador tiene la mínima capacidad predictiva, con la generación de 2 clústers obtendremos un clúster que se identifica con las tendencias alcistas y otro con las tendencias bajistas.\n",
        "\n",
        "Para comprobarlo se realizarán los siguientes pasos:\n",
        "\n",
        "1) cálculo del Williams %R para un rango de parámetros a modo de variables\n",
        "\n",
        "2) generación de 2 clústers con K-Means en el periodo de entrenamiento\n",
        "\n",
        "3) comprobación en forward\n",
        "\n",
        "Se utilizarán los siguientes periodos:\n",
        "\n",
        "- train: 01/01/2010 -01/01/2020\n",
        "- forward: 01/01/2020 - 01/01/2023"
      ],
      "metadata": {
        "id": "8khJLjeggwtm"
      }
    },
    {
      "cell_type": "markdown",
      "source": [
        "#ENTORNO"
      ],
      "metadata": {
        "id": "15VmGRcLiTfG"
      }
    },
    {
      "cell_type": "markdown",
      "source": [
        "##DATOS"
      ],
      "metadata": {
        "id": "pndyYpNtiVG8"
      }
    },
    {
      "cell_type": "markdown",
      "source": [
        "El activo utilizado en este código será el EURUSD en diario disponible en los siguientes enlaces:\n",
        "\n",
        "- descarga: https://drive.google.com/uc?id=1inRqthKmwbzhzgXdv9FbpEvp8gRA5RnQ\n",
        "\n",
        "- visualización: https://drive.google.com/file/d/1inRqthKmwbzhzgXdv9FbpEvp8gRA5RnQ/view?usp=sharing"
      ],
      "metadata": {
        "id": "HoTIJgryhBEE"
      }
    },
    {
      "cell_type": "markdown",
      "source": [
        "##LIBRERÍAS"
      ],
      "metadata": {
        "id": "EKgdWqP-iewT"
      }
    },
    {
      "cell_type": "code",
      "source": [
        "#INSTALACIÓN DE LIBRERÍA PARA CALCULAR INDICADORES TÉCNICOS\n",
        "!pip install pandas_ta"
      ],
      "metadata": {
        "colab": {
          "base_uri": "https://localhost:8080/"
        },
        "id": "JE6mofFJhbdb",
        "outputId": "62ef4ebf-fa91-4f1c-8c2d-29ff04cc3f09"
      },
      "execution_count": null,
      "outputs": [
        {
          "output_type": "stream",
          "name": "stdout",
          "text": [
            "Collecting pandas_ta\n",
            "  Downloading pandas_ta-0.3.14b.tar.gz (115 kB)\n",
            "\u001b[?25l     \u001b[90m━━━━━━━━━━━━━━━━━━━━━━━━━━━━━━━━━━━━━━━━\u001b[0m \u001b[32m0.0/115.1 kB\u001b[0m \u001b[31m?\u001b[0m eta \u001b[36m-:--:--\u001b[0m\r\u001b[2K     \u001b[91m━━━━━━━━━━━━━━━━━━━━━━━━━━━━\u001b[0m\u001b[90m╺\u001b[0m\u001b[90m━━━━━━━━━━━\u001b[0m \u001b[32m81.9/115.1 kB\u001b[0m \u001b[31m2.5 MB/s\u001b[0m eta \u001b[36m0:00:01\u001b[0m\r\u001b[2K     \u001b[90m━━━━━━━━━━━━━━━━━━━━━━━━━━━━━━━━━━━━━━━\u001b[0m \u001b[32m115.1/115.1 kB\u001b[0m \u001b[31m2.4 MB/s\u001b[0m eta \u001b[36m0:00:00\u001b[0m\n",
            "\u001b[?25h  Preparing metadata (setup.py) ... \u001b[?25l\u001b[?25hdone\n",
            "Requirement already satisfied: pandas in /usr/local/lib/python3.10/dist-packages (from pandas_ta) (1.5.3)\n",
            "Requirement already satisfied: python-dateutil>=2.8.1 in /usr/local/lib/python3.10/dist-packages (from pandas->pandas_ta) (2.8.2)\n",
            "Requirement already satisfied: pytz>=2020.1 in /usr/local/lib/python3.10/dist-packages (from pandas->pandas_ta) (2023.3)\n",
            "Requirement already satisfied: numpy>=1.21.0 in /usr/local/lib/python3.10/dist-packages (from pandas->pandas_ta) (1.23.5)\n",
            "Requirement already satisfied: six>=1.5 in /usr/local/lib/python3.10/dist-packages (from python-dateutil>=2.8.1->pandas->pandas_ta) (1.16.0)\n",
            "Building wheels for collected packages: pandas_ta\n",
            "  Building wheel for pandas_ta (setup.py) ... \u001b[?25l\u001b[?25hdone\n",
            "  Created wheel for pandas_ta: filename=pandas_ta-0.3.14b0-py3-none-any.whl size=218908 sha256=ea3e490cde6a1b75df5878763c27832982fdd45e0443d28d2f1deb530b4bf275\n",
            "  Stored in directory: /root/.cache/pip/wheels/69/00/ac/f7fa862c34b0e2ef320175100c233377b4c558944f12474cf0\n",
            "Successfully built pandas_ta\n",
            "Installing collected packages: pandas_ta\n",
            "Successfully installed pandas_ta-0.3.14b0\n"
          ]
        }
      ]
    },
    {
      "cell_type": "code",
      "source": [
        "#IMPORTACIÓN DE LIBRERÍAS\n",
        "import pandas_ta as ta\n",
        "import pandas as pd\n",
        "import gdown\n",
        "import numpy as np\n",
        "import matplotlib.pyplot as plt\n",
        "from sklearn.cluster import KMeans\n",
        "from datetime import date\n",
        "from scipy.stats import ks_2samp\n",
        "import warnings\n",
        "warnings.filterwarnings('ignore')"
      ],
      "metadata": {
        "id": "elahkknViHJD"
      },
      "execution_count": null,
      "outputs": []
    },
    {
      "cell_type": "markdown",
      "source": [
        "##FUNCIONES"
      ],
      "metadata": {
        "id": "D5oPZwO-jy76"
      }
    },
    {
      "cell_type": "code",
      "source": [
        "#FUNCIÓN PARA OBTENER LOS DATOS\n",
        "\n",
        "def get_data(url):\n",
        "  \"\"\"\n",
        "  Descarga un archivo CSV desde una URL y devuelve los datos como un DataFrame.\n",
        "\n",
        "  Parámetros:\n",
        "  url (str): La URL del archivo CSV a descargar.\n",
        "\n",
        "  Retorna:\n",
        "  pandas.DataFrame: Un DataFrame que contiene los datos del archivo CSV.\n",
        "  \"\"\"\n",
        "\n",
        "  #Descargar el archivo\n",
        "  output = \"archivo.csv\"\n",
        "  gdown.download(url, output, quiet=False)\n",
        "\n",
        "  #Leer el archivo descargado\n",
        "  data = pd.read_csv(output)\n",
        "\n",
        "  return data"
      ],
      "metadata": {
        "id": "NEneujs6iUvS"
      },
      "execution_count": null,
      "outputs": []
    },
    {
      "cell_type": "code",
      "source": [
        "#FUNCIÓN PARA CALCULAR WILLIAMS\n",
        "\n",
        "def calculate_williams(data):\n",
        "  \"\"\"\n",
        "  Calcula Williams %R para un rango de parámetros para los datos de precios de un activo específico.\n",
        "\n",
        "  Args:\n",
        "    data (pandas.DataFrame): Datos históricos del activo.\n",
        "\n",
        "  Returns:\n",
        "    pandas.DataFrame: Un DataFrame que contiene los indicadores calculados.\n",
        "  \"\"\"\n",
        "\n",
        "  #Renombrar las columnas\n",
        "  data.columns = [\"Date\", \"Time\", \"Open\", \"High\", \"Low\", \"Close\", \"Volume\"]\n",
        "  #Establecer la fecha como índice\n",
        "  data = data.set_index(\"Date\")\n",
        "  #Eliminar columnas innecesarias\n",
        "  data = data.drop([\"Time\", \"Volume\"], axis=1)\n",
        "\n",
        "  #Extraer columnas necesarias para el cálculo de indicadores\n",
        "  close = data[\"Close\"]\n",
        "  high = data[\"High\"]\n",
        "  low = data[\"Low\"]\n",
        "\n",
        "  #Crear de listas para guardar el nombre de los indicadores y los valores\n",
        "  indicators = []\n",
        "  columns = []\n",
        "\n",
        "  #Establecer rango de valores usados como parámetro para el cálculo de los indicadores\n",
        "  periods = list(range(5,100))\n",
        "\n",
        "  #WILLR - Williams' %R\n",
        "  for n in periods:\n",
        "    name = \"WILLR\" + str(n)\n",
        "    indicators.append(ta.willr(high, low, close, n))\n",
        "    columns.append(name)\n",
        "\n",
        "  #Crear dataframe con todos los indicadores calculados\n",
        "  df = pd.concat(indicators, axis=1)\n",
        "  df.columns = columns\n",
        "  df.index = data.index\n",
        "\n",
        "  #Calcular el retorno a un día vista\n",
        "  df[\"Open\"] = data[\"Open\"]\n",
        "  df[\"Close\"] = data[\"Close\"]\n",
        "  df[\"Return\"] = df[\"Open\"].pct_change().shift(-1)\n",
        "  df = df.drop(\"Open\", axis=1)\n",
        "\n",
        "  #Eliminar las filas con valores faltantes\n",
        "  df = df.dropna()\n",
        "\n",
        "  return df"
      ],
      "metadata": {
        "id": "y5GSEFRG7qF1"
      },
      "execution_count": null,
      "outputs": []
    },
    {
      "cell_type": "code",
      "source": [
        "#FUNCIÓN PARA LA PARTICIÓN EN TRAIN, TEST Y FORWARD\n",
        "\n",
        "def split(data):\n",
        "  \"\"\"\n",
        "  Divide los datos en conjuntos de entrenamiento y forward.\n",
        "\n",
        "  Args:\n",
        "    data (pandas.DataFrame): DataFrame que contiene los datos a dividir.\n",
        "\n",
        "  Returns:\n",
        "    tuple: Una tupla que contiene los siguientes conjuntos de datos:\n",
        "      - train (pandas.DataFrame): Conjunto de entrenamiento.\n",
        "      - forward (pandas.DataFrame): Conjunto forward.\n",
        "  \"\"\"\n",
        "\n",
        "  #Definir datos de entrenamiento\n",
        "  train = data.loc[\"2010.01.01\":\"2012.01.01\", :]\n",
        "\n",
        "  #Definir forward\n",
        "  forward = data.loc[\"2020.01.01\":\"2023.01.01\", :]\n",
        "\n",
        "  return train, forward"
      ],
      "metadata": {
        "id": "e9GVttfb9xvn"
      },
      "execution_count": null,
      "outputs": []
    },
    {
      "cell_type": "markdown",
      "source": [
        "#DATASET"
      ],
      "metadata": {
        "id": "qO2UDUmooc99"
      }
    },
    {
      "cell_type": "code",
      "source": [
        "#GENERACIÓN DEL DATASET\n",
        "\n",
        "#Obtener datos\n",
        "data = get_data(\"https://drive.google.com/uc?id=1inRqthKmwbzhzgXdv9FbpEvp8gRA5RnQ\")\n",
        "\n",
        "#Calcular indicadores\n",
        "data = calculate_williams(data)\n",
        "\n",
        "#Realizar particiones\n",
        "train, forward = split(data)\n",
        "\n",
        "forward.head(5)"
      ],
      "metadata": {
        "colab": {
          "base_uri": "https://localhost:8080/",
          "height": 356
        },
        "id": "JNrYWOEppQ6K",
        "outputId": "51433f2b-0d27-4dc2-b82e-3b651a70933a"
      },
      "execution_count": null,
      "outputs": [
        {
          "output_type": "stream",
          "name": "stderr",
          "text": [
            "Downloading...\n",
            "From: https://drive.google.com/uc?id=1inRqthKmwbzhzgXdv9FbpEvp8gRA5RnQ\n",
            "To: /content/archivo.csv\n",
            "100%|██████████| 779k/779k [00:00<00:00, 65.6MB/s]\n"
          ]
        },
        {
          "output_type": "execute_result",
          "data": {
            "text/plain": [
              "               WILLR5     WILLR6     WILLR7     WILLR8     WILLR9    WILLR10  \\\n",
              "Date                                                                           \n",
              "2020.01.01 -16.391185 -15.139949 -13.983549 -13.983549 -13.983549 -13.757225   \n",
              "2020.01.02 -96.433289 -50.275482 -46.437659 -42.890717 -42.890717 -42.890717   \n",
              "2020.01.03 -62.959720 -62.959720 -49.517906 -45.737913 -42.244418 -42.244418   \n",
              "2020.01.04 -73.029772 -73.029772 -73.029772 -57.438017 -53.053435 -49.001175   \n",
              "2020.01.06 -28.663793 -42.031524 -42.031524 -42.031524 -33.057851 -30.534351   \n",
              "\n",
              "              WILLR11    WILLR12    WILLR13    WILLR14  ...    WILLR92  \\\n",
              "Date                                                    ...              \n",
              "2020.01.01 -13.757225 -13.757225 -13.757225 -13.757225  ...  -6.607440   \n",
              "2020.01.02 -42.196532 -42.196532 -42.196532 -42.196532  ... -20.266519   \n",
              "2020.01.03 -42.244418 -41.560694 -41.560694 -41.560694  ... -19.961133   \n",
              "2020.01.04 -49.001175 -49.001175 -48.208092 -48.208092  ... -23.153803   \n",
              "2020.01.06 -28.202115 -28.202115 -28.202115 -27.745665  ... -13.325930   \n",
              "\n",
              "              WILLR93    WILLR94    WILLR95    WILLR96    WILLR97    WILLR98  \\\n",
              "Date                                                                           \n",
              "2020.01.01  -6.607440  -6.607440  -6.607440  -6.607440  -6.607440  -6.607440   \n",
              "2020.01.02 -20.266519 -20.266519 -20.266519 -20.266519 -20.266519 -20.266519   \n",
              "2020.01.03 -19.961133 -19.961133 -19.961133 -19.961133 -19.961133 -19.961133   \n",
              "2020.01.04 -23.153803 -23.153803 -23.153803 -23.153803 -23.153803 -23.153803   \n",
              "2020.01.06 -13.325930 -13.325930 -13.325930 -13.325930 -13.325930 -13.325930   \n",
              "\n",
              "              WILLR99    Close    Return  \n",
              "Date                                      \n",
              "2020.01.01  -6.607440  1.12154 -0.000312  \n",
              "2020.01.02 -20.266519  1.11662 -0.004191  \n",
              "2020.01.03 -19.961133  1.11673  0.000099  \n",
              "2020.01.04 -23.153803  1.11558 -0.000242  \n",
              "2020.01.06 -13.325930  1.11912  0.002383  \n",
              "\n",
              "[5 rows x 97 columns]"
            ],
            "text/html": [
              "\n",
              "  <div id=\"df-dedd399f-5fdd-4881-82f6-65075cc51359\" class=\"colab-df-container\">\n",
              "    <div>\n",
              "<style scoped>\n",
              "    .dataframe tbody tr th:only-of-type {\n",
              "        vertical-align: middle;\n",
              "    }\n",
              "\n",
              "    .dataframe tbody tr th {\n",
              "        vertical-align: top;\n",
              "    }\n",
              "\n",
              "    .dataframe thead th {\n",
              "        text-align: right;\n",
              "    }\n",
              "</style>\n",
              "<table border=\"1\" class=\"dataframe\">\n",
              "  <thead>\n",
              "    <tr style=\"text-align: right;\">\n",
              "      <th></th>\n",
              "      <th>WILLR5</th>\n",
              "      <th>WILLR6</th>\n",
              "      <th>WILLR7</th>\n",
              "      <th>WILLR8</th>\n",
              "      <th>WILLR9</th>\n",
              "      <th>WILLR10</th>\n",
              "      <th>WILLR11</th>\n",
              "      <th>WILLR12</th>\n",
              "      <th>WILLR13</th>\n",
              "      <th>WILLR14</th>\n",
              "      <th>...</th>\n",
              "      <th>WILLR92</th>\n",
              "      <th>WILLR93</th>\n",
              "      <th>WILLR94</th>\n",
              "      <th>WILLR95</th>\n",
              "      <th>WILLR96</th>\n",
              "      <th>WILLR97</th>\n",
              "      <th>WILLR98</th>\n",
              "      <th>WILLR99</th>\n",
              "      <th>Close</th>\n",
              "      <th>Return</th>\n",
              "    </tr>\n",
              "    <tr>\n",
              "      <th>Date</th>\n",
              "      <th></th>\n",
              "      <th></th>\n",
              "      <th></th>\n",
              "      <th></th>\n",
              "      <th></th>\n",
              "      <th></th>\n",
              "      <th></th>\n",
              "      <th></th>\n",
              "      <th></th>\n",
              "      <th></th>\n",
              "      <th></th>\n",
              "      <th></th>\n",
              "      <th></th>\n",
              "      <th></th>\n",
              "      <th></th>\n",
              "      <th></th>\n",
              "      <th></th>\n",
              "      <th></th>\n",
              "      <th></th>\n",
              "      <th></th>\n",
              "      <th></th>\n",
              "    </tr>\n",
              "  </thead>\n",
              "  <tbody>\n",
              "    <tr>\n",
              "      <th>2020.01.01</th>\n",
              "      <td>-16.391185</td>\n",
              "      <td>-15.139949</td>\n",
              "      <td>-13.983549</td>\n",
              "      <td>-13.983549</td>\n",
              "      <td>-13.983549</td>\n",
              "      <td>-13.757225</td>\n",
              "      <td>-13.757225</td>\n",
              "      <td>-13.757225</td>\n",
              "      <td>-13.757225</td>\n",
              "      <td>-13.757225</td>\n",
              "      <td>...</td>\n",
              "      <td>-6.607440</td>\n",
              "      <td>-6.607440</td>\n",
              "      <td>-6.607440</td>\n",
              "      <td>-6.607440</td>\n",
              "      <td>-6.607440</td>\n",
              "      <td>-6.607440</td>\n",
              "      <td>-6.607440</td>\n",
              "      <td>-6.607440</td>\n",
              "      <td>1.12154</td>\n",
              "      <td>-0.000312</td>\n",
              "    </tr>\n",
              "    <tr>\n",
              "      <th>2020.01.02</th>\n",
              "      <td>-96.433289</td>\n",
              "      <td>-50.275482</td>\n",
              "      <td>-46.437659</td>\n",
              "      <td>-42.890717</td>\n",
              "      <td>-42.890717</td>\n",
              "      <td>-42.890717</td>\n",
              "      <td>-42.196532</td>\n",
              "      <td>-42.196532</td>\n",
              "      <td>-42.196532</td>\n",
              "      <td>-42.196532</td>\n",
              "      <td>...</td>\n",
              "      <td>-20.266519</td>\n",
              "      <td>-20.266519</td>\n",
              "      <td>-20.266519</td>\n",
              "      <td>-20.266519</td>\n",
              "      <td>-20.266519</td>\n",
              "      <td>-20.266519</td>\n",
              "      <td>-20.266519</td>\n",
              "      <td>-20.266519</td>\n",
              "      <td>1.11662</td>\n",
              "      <td>-0.004191</td>\n",
              "    </tr>\n",
              "    <tr>\n",
              "      <th>2020.01.03</th>\n",
              "      <td>-62.959720</td>\n",
              "      <td>-62.959720</td>\n",
              "      <td>-49.517906</td>\n",
              "      <td>-45.737913</td>\n",
              "      <td>-42.244418</td>\n",
              "      <td>-42.244418</td>\n",
              "      <td>-42.244418</td>\n",
              "      <td>-41.560694</td>\n",
              "      <td>-41.560694</td>\n",
              "      <td>-41.560694</td>\n",
              "      <td>...</td>\n",
              "      <td>-19.961133</td>\n",
              "      <td>-19.961133</td>\n",
              "      <td>-19.961133</td>\n",
              "      <td>-19.961133</td>\n",
              "      <td>-19.961133</td>\n",
              "      <td>-19.961133</td>\n",
              "      <td>-19.961133</td>\n",
              "      <td>-19.961133</td>\n",
              "      <td>1.11673</td>\n",
              "      <td>0.000099</td>\n",
              "    </tr>\n",
              "    <tr>\n",
              "      <th>2020.01.04</th>\n",
              "      <td>-73.029772</td>\n",
              "      <td>-73.029772</td>\n",
              "      <td>-73.029772</td>\n",
              "      <td>-57.438017</td>\n",
              "      <td>-53.053435</td>\n",
              "      <td>-49.001175</td>\n",
              "      <td>-49.001175</td>\n",
              "      <td>-49.001175</td>\n",
              "      <td>-48.208092</td>\n",
              "      <td>-48.208092</td>\n",
              "      <td>...</td>\n",
              "      <td>-23.153803</td>\n",
              "      <td>-23.153803</td>\n",
              "      <td>-23.153803</td>\n",
              "      <td>-23.153803</td>\n",
              "      <td>-23.153803</td>\n",
              "      <td>-23.153803</td>\n",
              "      <td>-23.153803</td>\n",
              "      <td>-23.153803</td>\n",
              "      <td>1.11558</td>\n",
              "      <td>-0.000242</td>\n",
              "    </tr>\n",
              "    <tr>\n",
              "      <th>2020.01.06</th>\n",
              "      <td>-28.663793</td>\n",
              "      <td>-42.031524</td>\n",
              "      <td>-42.031524</td>\n",
              "      <td>-42.031524</td>\n",
              "      <td>-33.057851</td>\n",
              "      <td>-30.534351</td>\n",
              "      <td>-28.202115</td>\n",
              "      <td>-28.202115</td>\n",
              "      <td>-28.202115</td>\n",
              "      <td>-27.745665</td>\n",
              "      <td>...</td>\n",
              "      <td>-13.325930</td>\n",
              "      <td>-13.325930</td>\n",
              "      <td>-13.325930</td>\n",
              "      <td>-13.325930</td>\n",
              "      <td>-13.325930</td>\n",
              "      <td>-13.325930</td>\n",
              "      <td>-13.325930</td>\n",
              "      <td>-13.325930</td>\n",
              "      <td>1.11912</td>\n",
              "      <td>0.002383</td>\n",
              "    </tr>\n",
              "  </tbody>\n",
              "</table>\n",
              "<p>5 rows × 97 columns</p>\n",
              "</div>\n",
              "    <div class=\"colab-df-buttons\">\n",
              "\n",
              "  <div class=\"colab-df-container\">\n",
              "    <button class=\"colab-df-convert\" onclick=\"convertToInteractive('df-dedd399f-5fdd-4881-82f6-65075cc51359')\"\n",
              "            title=\"Convert this dataframe to an interactive table.\"\n",
              "            style=\"display:none;\">\n",
              "\n",
              "  <svg xmlns=\"http://www.w3.org/2000/svg\" height=\"24px\" viewBox=\"0 -960 960 960\">\n",
              "    <path d=\"M120-120v-720h720v720H120Zm60-500h600v-160H180v160Zm220 220h160v-160H400v160Zm0 220h160v-160H400v160ZM180-400h160v-160H180v160Zm440 0h160v-160H620v160ZM180-180h160v-160H180v160Zm440 0h160v-160H620v160Z\"/>\n",
              "  </svg>\n",
              "    </button>\n",
              "\n",
              "  <style>\n",
              "    .colab-df-container {\n",
              "      display:flex;\n",
              "      gap: 12px;\n",
              "    }\n",
              "\n",
              "    .colab-df-convert {\n",
              "      background-color: #E8F0FE;\n",
              "      border: none;\n",
              "      border-radius: 50%;\n",
              "      cursor: pointer;\n",
              "      display: none;\n",
              "      fill: #1967D2;\n",
              "      height: 32px;\n",
              "      padding: 0 0 0 0;\n",
              "      width: 32px;\n",
              "    }\n",
              "\n",
              "    .colab-df-convert:hover {\n",
              "      background-color: #E2EBFA;\n",
              "      box-shadow: 0px 1px 2px rgba(60, 64, 67, 0.3), 0px 1px 3px 1px rgba(60, 64, 67, 0.15);\n",
              "      fill: #174EA6;\n",
              "    }\n",
              "\n",
              "    .colab-df-buttons div {\n",
              "      margin-bottom: 4px;\n",
              "    }\n",
              "\n",
              "    [theme=dark] .colab-df-convert {\n",
              "      background-color: #3B4455;\n",
              "      fill: #D2E3FC;\n",
              "    }\n",
              "\n",
              "    [theme=dark] .colab-df-convert:hover {\n",
              "      background-color: #434B5C;\n",
              "      box-shadow: 0px 1px 3px 1px rgba(0, 0, 0, 0.15);\n",
              "      filter: drop-shadow(0px 1px 2px rgba(0, 0, 0, 0.3));\n",
              "      fill: #FFFFFF;\n",
              "    }\n",
              "  </style>\n",
              "\n",
              "    <script>\n",
              "      const buttonEl =\n",
              "        document.querySelector('#df-dedd399f-5fdd-4881-82f6-65075cc51359 button.colab-df-convert');\n",
              "      buttonEl.style.display =\n",
              "        google.colab.kernel.accessAllowed ? 'block' : 'none';\n",
              "\n",
              "      async function convertToInteractive(key) {\n",
              "        const element = document.querySelector('#df-dedd399f-5fdd-4881-82f6-65075cc51359');\n",
              "        const dataTable =\n",
              "          await google.colab.kernel.invokeFunction('convertToInteractive',\n",
              "                                                    [key], {});\n",
              "        if (!dataTable) return;\n",
              "\n",
              "        const docLinkHtml = 'Like what you see? Visit the ' +\n",
              "          '<a target=\"_blank\" href=https://colab.research.google.com/notebooks/data_table.ipynb>data table notebook</a>'\n",
              "          + ' to learn more about interactive tables.';\n",
              "        element.innerHTML = '';\n",
              "        dataTable['output_type'] = 'display_data';\n",
              "        await google.colab.output.renderOutput(dataTable, element);\n",
              "        const docLink = document.createElement('div');\n",
              "        docLink.innerHTML = docLinkHtml;\n",
              "        element.appendChild(docLink);\n",
              "      }\n",
              "    </script>\n",
              "  </div>\n",
              "\n",
              "\n",
              "<div id=\"df-1707d76b-a69c-4c4b-b1b2-9a5c626e0880\">\n",
              "  <button class=\"colab-df-quickchart\" onclick=\"quickchart('df-1707d76b-a69c-4c4b-b1b2-9a5c626e0880')\"\n",
              "            title=\"Suggest charts.\"\n",
              "            style=\"display:none;\">\n",
              "\n",
              "<svg xmlns=\"http://www.w3.org/2000/svg\" height=\"24px\"viewBox=\"0 0 24 24\"\n",
              "     width=\"24px\">\n",
              "    <g>\n",
              "        <path d=\"M19 3H5c-1.1 0-2 .9-2 2v14c0 1.1.9 2 2 2h14c1.1 0 2-.9 2-2V5c0-1.1-.9-2-2-2zM9 17H7v-7h2v7zm4 0h-2V7h2v10zm4 0h-2v-4h2v4z\"/>\n",
              "    </g>\n",
              "</svg>\n",
              "  </button>\n",
              "\n",
              "<style>\n",
              "  .colab-df-quickchart {\n",
              "    background-color: #E8F0FE;\n",
              "    border: none;\n",
              "    border-radius: 50%;\n",
              "    cursor: pointer;\n",
              "    display: none;\n",
              "    fill: #1967D2;\n",
              "    height: 32px;\n",
              "    padding: 0 0 0 0;\n",
              "    width: 32px;\n",
              "  }\n",
              "\n",
              "  .colab-df-quickchart:hover {\n",
              "    background-color: #E2EBFA;\n",
              "    box-shadow: 0px 1px 2px rgba(60, 64, 67, 0.3), 0px 1px 3px 1px rgba(60, 64, 67, 0.15);\n",
              "    fill: #174EA6;\n",
              "  }\n",
              "\n",
              "  [theme=dark] .colab-df-quickchart {\n",
              "    background-color: #3B4455;\n",
              "    fill: #D2E3FC;\n",
              "  }\n",
              "\n",
              "  [theme=dark] .colab-df-quickchart:hover {\n",
              "    background-color: #434B5C;\n",
              "    box-shadow: 0px 1px 3px 1px rgba(0, 0, 0, 0.15);\n",
              "    filter: drop-shadow(0px 1px 2px rgba(0, 0, 0, 0.3));\n",
              "    fill: #FFFFFF;\n",
              "  }\n",
              "</style>\n",
              "\n",
              "  <script>\n",
              "    async function quickchart(key) {\n",
              "      const charts = await google.colab.kernel.invokeFunction(\n",
              "          'suggestCharts', [key], {});\n",
              "    }\n",
              "    (() => {\n",
              "      let quickchartButtonEl =\n",
              "        document.querySelector('#df-1707d76b-a69c-4c4b-b1b2-9a5c626e0880 button');\n",
              "      quickchartButtonEl.style.display =\n",
              "        google.colab.kernel.accessAllowed ? 'block' : 'none';\n",
              "    })();\n",
              "  </script>\n",
              "</div>\n",
              "    </div>\n",
              "  </div>\n"
            ]
          },
          "metadata": {},
          "execution_count": 7
        }
      ]
    },
    {
      "cell_type": "markdown",
      "source": [
        "#CLUSTERING"
      ],
      "metadata": {
        "id": "7LALYjUo_g8G"
      }
    },
    {
      "cell_type": "code",
      "source": [
        "#GENERACIÓN DE CLÚSTERS\n",
        "\n",
        "#Preparar datos de entrenamiento\n",
        "X_train = train.iloc[:,:-2]\n",
        "\n",
        "#Preparar datos forward\n",
        "X_forward = forward.iloc[:,:-2]\n",
        "\n",
        "#Aplicar K-Means\n",
        "kmeans = KMeans(n_clusters=2).fit(X_train)\n",
        "predictions = kmeans.predict(X_forward)\n",
        "\n",
        "#Generar predicciones en forward\n",
        "df_forward = pd.DataFrame(forward[\"Return\"])\n",
        "df_forward[\"Pred\"] = predictions\n",
        "df_forward[\"Close\"] = forward[\"Close\"]\n",
        "df_forward.head(5)"
      ],
      "metadata": {
        "colab": {
          "base_uri": "https://localhost:8080/",
          "height": 237
        },
        "id": "AY-bWA10_go0",
        "outputId": "e478320f-5e38-436f-9af3-7787bea8404b"
      },
      "execution_count": null,
      "outputs": [
        {
          "output_type": "execute_result",
          "data": {
            "text/plain": [
              "              Return  Pred    Close\n",
              "Date                               \n",
              "2020.01.01 -0.000312     0  1.12154\n",
              "2020.01.02 -0.004191     0  1.11662\n",
              "2020.01.03  0.000099     0  1.11673\n",
              "2020.01.04 -0.000242     0  1.11558\n",
              "2020.01.06  0.002383     0  1.11912"
            ],
            "text/html": [
              "\n",
              "  <div id=\"df-b540003d-0cce-4191-ae7a-316bdce4efb1\" class=\"colab-df-container\">\n",
              "    <div>\n",
              "<style scoped>\n",
              "    .dataframe tbody tr th:only-of-type {\n",
              "        vertical-align: middle;\n",
              "    }\n",
              "\n",
              "    .dataframe tbody tr th {\n",
              "        vertical-align: top;\n",
              "    }\n",
              "\n",
              "    .dataframe thead th {\n",
              "        text-align: right;\n",
              "    }\n",
              "</style>\n",
              "<table border=\"1\" class=\"dataframe\">\n",
              "  <thead>\n",
              "    <tr style=\"text-align: right;\">\n",
              "      <th></th>\n",
              "      <th>Return</th>\n",
              "      <th>Pred</th>\n",
              "      <th>Close</th>\n",
              "    </tr>\n",
              "    <tr>\n",
              "      <th>Date</th>\n",
              "      <th></th>\n",
              "      <th></th>\n",
              "      <th></th>\n",
              "    </tr>\n",
              "  </thead>\n",
              "  <tbody>\n",
              "    <tr>\n",
              "      <th>2020.01.01</th>\n",
              "      <td>-0.000312</td>\n",
              "      <td>0</td>\n",
              "      <td>1.12154</td>\n",
              "    </tr>\n",
              "    <tr>\n",
              "      <th>2020.01.02</th>\n",
              "      <td>-0.004191</td>\n",
              "      <td>0</td>\n",
              "      <td>1.11662</td>\n",
              "    </tr>\n",
              "    <tr>\n",
              "      <th>2020.01.03</th>\n",
              "      <td>0.000099</td>\n",
              "      <td>0</td>\n",
              "      <td>1.11673</td>\n",
              "    </tr>\n",
              "    <tr>\n",
              "      <th>2020.01.04</th>\n",
              "      <td>-0.000242</td>\n",
              "      <td>0</td>\n",
              "      <td>1.11558</td>\n",
              "    </tr>\n",
              "    <tr>\n",
              "      <th>2020.01.06</th>\n",
              "      <td>0.002383</td>\n",
              "      <td>0</td>\n",
              "      <td>1.11912</td>\n",
              "    </tr>\n",
              "  </tbody>\n",
              "</table>\n",
              "</div>\n",
              "    <div class=\"colab-df-buttons\">\n",
              "\n",
              "  <div class=\"colab-df-container\">\n",
              "    <button class=\"colab-df-convert\" onclick=\"convertToInteractive('df-b540003d-0cce-4191-ae7a-316bdce4efb1')\"\n",
              "            title=\"Convert this dataframe to an interactive table.\"\n",
              "            style=\"display:none;\">\n",
              "\n",
              "  <svg xmlns=\"http://www.w3.org/2000/svg\" height=\"24px\" viewBox=\"0 -960 960 960\">\n",
              "    <path d=\"M120-120v-720h720v720H120Zm60-500h600v-160H180v160Zm220 220h160v-160H400v160Zm0 220h160v-160H400v160ZM180-400h160v-160H180v160Zm440 0h160v-160H620v160ZM180-180h160v-160H180v160Zm440 0h160v-160H620v160Z\"/>\n",
              "  </svg>\n",
              "    </button>\n",
              "\n",
              "  <style>\n",
              "    .colab-df-container {\n",
              "      display:flex;\n",
              "      gap: 12px;\n",
              "    }\n",
              "\n",
              "    .colab-df-convert {\n",
              "      background-color: #E8F0FE;\n",
              "      border: none;\n",
              "      border-radius: 50%;\n",
              "      cursor: pointer;\n",
              "      display: none;\n",
              "      fill: #1967D2;\n",
              "      height: 32px;\n",
              "      padding: 0 0 0 0;\n",
              "      width: 32px;\n",
              "    }\n",
              "\n",
              "    .colab-df-convert:hover {\n",
              "      background-color: #E2EBFA;\n",
              "      box-shadow: 0px 1px 2px rgba(60, 64, 67, 0.3), 0px 1px 3px 1px rgba(60, 64, 67, 0.15);\n",
              "      fill: #174EA6;\n",
              "    }\n",
              "\n",
              "    .colab-df-buttons div {\n",
              "      margin-bottom: 4px;\n",
              "    }\n",
              "\n",
              "    [theme=dark] .colab-df-convert {\n",
              "      background-color: #3B4455;\n",
              "      fill: #D2E3FC;\n",
              "    }\n",
              "\n",
              "    [theme=dark] .colab-df-convert:hover {\n",
              "      background-color: #434B5C;\n",
              "      box-shadow: 0px 1px 3px 1px rgba(0, 0, 0, 0.15);\n",
              "      filter: drop-shadow(0px 1px 2px rgba(0, 0, 0, 0.3));\n",
              "      fill: #FFFFFF;\n",
              "    }\n",
              "  </style>\n",
              "\n",
              "    <script>\n",
              "      const buttonEl =\n",
              "        document.querySelector('#df-b540003d-0cce-4191-ae7a-316bdce4efb1 button.colab-df-convert');\n",
              "      buttonEl.style.display =\n",
              "        google.colab.kernel.accessAllowed ? 'block' : 'none';\n",
              "\n",
              "      async function convertToInteractive(key) {\n",
              "        const element = document.querySelector('#df-b540003d-0cce-4191-ae7a-316bdce4efb1');\n",
              "        const dataTable =\n",
              "          await google.colab.kernel.invokeFunction('convertToInteractive',\n",
              "                                                    [key], {});\n",
              "        if (!dataTable) return;\n",
              "\n",
              "        const docLinkHtml = 'Like what you see? Visit the ' +\n",
              "          '<a target=\"_blank\" href=https://colab.research.google.com/notebooks/data_table.ipynb>data table notebook</a>'\n",
              "          + ' to learn more about interactive tables.';\n",
              "        element.innerHTML = '';\n",
              "        dataTable['output_type'] = 'display_data';\n",
              "        await google.colab.output.renderOutput(dataTable, element);\n",
              "        const docLink = document.createElement('div');\n",
              "        docLink.innerHTML = docLinkHtml;\n",
              "        element.appendChild(docLink);\n",
              "      }\n",
              "    </script>\n",
              "  </div>\n",
              "\n",
              "\n",
              "<div id=\"df-dd307246-7256-4eb5-98c9-0b81c3a52c61\">\n",
              "  <button class=\"colab-df-quickchart\" onclick=\"quickchart('df-dd307246-7256-4eb5-98c9-0b81c3a52c61')\"\n",
              "            title=\"Suggest charts.\"\n",
              "            style=\"display:none;\">\n",
              "\n",
              "<svg xmlns=\"http://www.w3.org/2000/svg\" height=\"24px\"viewBox=\"0 0 24 24\"\n",
              "     width=\"24px\">\n",
              "    <g>\n",
              "        <path d=\"M19 3H5c-1.1 0-2 .9-2 2v14c0 1.1.9 2 2 2h14c1.1 0 2-.9 2-2V5c0-1.1-.9-2-2-2zM9 17H7v-7h2v7zm4 0h-2V7h2v10zm4 0h-2v-4h2v4z\"/>\n",
              "    </g>\n",
              "</svg>\n",
              "  </button>\n",
              "\n",
              "<style>\n",
              "  .colab-df-quickchart {\n",
              "    background-color: #E8F0FE;\n",
              "    border: none;\n",
              "    border-radius: 50%;\n",
              "    cursor: pointer;\n",
              "    display: none;\n",
              "    fill: #1967D2;\n",
              "    height: 32px;\n",
              "    padding: 0 0 0 0;\n",
              "    width: 32px;\n",
              "  }\n",
              "\n",
              "  .colab-df-quickchart:hover {\n",
              "    background-color: #E2EBFA;\n",
              "    box-shadow: 0px 1px 2px rgba(60, 64, 67, 0.3), 0px 1px 3px 1px rgba(60, 64, 67, 0.15);\n",
              "    fill: #174EA6;\n",
              "  }\n",
              "\n",
              "  [theme=dark] .colab-df-quickchart {\n",
              "    background-color: #3B4455;\n",
              "    fill: #D2E3FC;\n",
              "  }\n",
              "\n",
              "  [theme=dark] .colab-df-quickchart:hover {\n",
              "    background-color: #434B5C;\n",
              "    box-shadow: 0px 1px 3px 1px rgba(0, 0, 0, 0.15);\n",
              "    filter: drop-shadow(0px 1px 2px rgba(0, 0, 0, 0.3));\n",
              "    fill: #FFFFFF;\n",
              "  }\n",
              "</style>\n",
              "\n",
              "  <script>\n",
              "    async function quickchart(key) {\n",
              "      const charts = await google.colab.kernel.invokeFunction(\n",
              "          'suggestCharts', [key], {});\n",
              "    }\n",
              "    (() => {\n",
              "      let quickchartButtonEl =\n",
              "        document.querySelector('#df-dd307246-7256-4eb5-98c9-0b81c3a52c61 button');\n",
              "      quickchartButtonEl.style.display =\n",
              "        google.colab.kernel.accessAllowed ? 'block' : 'none';\n",
              "    })();\n",
              "  </script>\n",
              "</div>\n",
              "    </div>\n",
              "  </div>\n"
            ]
          },
          "metadata": {},
          "execution_count": 8
        }
      ]
    },
    {
      "cell_type": "code",
      "source": [
        "#COMPROBACIÓN DE CLÚSTERS\n",
        "\n",
        "#Calcular retornos medios del clúster con la etiqueta 0\n",
        "ave_zero = np.mean(df_forward[df_forward[\"Pred\"]==0][\"Return\"])\n",
        "print(\"Retorno medio de la etiqueta 0:\", round(ave_zero, 4))\n",
        "\n",
        "#Calcular retornos medios del clúster con la etiqueta 1\n",
        "ave_one = np.mean(df_forward[df_forward[\"Pred\"]==1][\"Return\"])\n",
        "print(\"Retorno medio de la etiqueta 1:\", round(ave_one, 4))"
      ],
      "metadata": {
        "colab": {
          "base_uri": "https://localhost:8080/"
        },
        "id": "1OmJny7DDhyo",
        "outputId": "c3c52c55-761e-4d68-f5a8-4a7643708d51"
      },
      "execution_count": null,
      "outputs": [
        {
          "output_type": "stream",
          "name": "stdout",
          "text": [
            "Retorno medio de la etiqueta 0: 0.0011\n",
            "Retorno medio de la etiqueta 1: -0.0008\n"
          ]
        }
      ]
    },
    {
      "cell_type": "code",
      "source": [
        "#RENOMBRADO DE LAS ETIQUETAS OTORGADAS POR K-MEANS EN 1 O -1\n",
        "\n",
        "#Renombrar etiquetas\n",
        "if ave_zero > ave_one:\n",
        "  df_forward[\"Pred\"] = np.where(df_forward[\"Pred\"]==0, 1, -1)\n",
        "else:\n",
        "  df_forward[\"Pred\"] = np.where(df_forward[\"Pred\"]==0, -1, 1)"
      ],
      "metadata": {
        "id": "WLQ81o05EVA-"
      },
      "execution_count": null,
      "outputs": []
    },
    {
      "cell_type": "code",
      "source": [
        "#FORMATO DE FECHAS\n",
        "dates = pd.to_datetime(df_forward.index)\n",
        "df_forward.set_index(dates, inplace=True)"
      ],
      "metadata": {
        "id": "Pv-hMkgQW3i-"
      },
      "execution_count": null,
      "outputs": []
    },
    {
      "cell_type": "markdown",
      "source": [
        "#COMPROBACIONES"
      ],
      "metadata": {
        "id": "247qr3NfGAS-"
      }
    },
    {
      "cell_type": "markdown",
      "source": [
        "##GRÁFICO"
      ],
      "metadata": {
        "id": "l-tAC9zTbrmY"
      }
    },
    {
      "cell_type": "markdown",
      "source": [
        "Graficando la evolución del precio pintando cada punto según el clúster podremos comprobar si se distinguen tendencias alcistas y bajistas."
      ],
      "metadata": {
        "id": "ZZP3T4T7iaCn"
      }
    },
    {
      "cell_type": "code",
      "source": [
        "#GRÁFICO CON LAS PREDICCIONES\n",
        "\n",
        "#Crear una lista de colores según predicción\n",
        "colors = ['green' if c == 1 else 'red' for c in df_forward[\"Pred\"]]\n",
        "\n",
        "#Crear el gráfico\n",
        "plt.figure(figsize=(8, 4))\n",
        "plt.scatter(df_forward.index, df_forward[\"Close\"], c=colors, s=3)\n",
        "plt.show()"
      ],
      "metadata": {
        "colab": {
          "base_uri": "https://localhost:8080/",
          "height": 368
        },
        "id": "4b4oIQneUIbD",
        "outputId": "95a8a635-5bdf-49bf-d761-9830db278c35"
      },
      "execution_count": null,
      "outputs": [
        {
          "output_type": "display_data",
          "data": {
            "text/plain": [
              "<Figure size 800x400 with 1 Axes>"
            ],
            "image/png": "[encoded data removed]"
          },
          "metadata": {}
        }
      ]
    },
    {
      "cell_type": "markdown",
      "source": [
        "##HISTOGRAMAS"
      ],
      "metadata": {
        "id": "9wHezeEifzVB"
      }
    },
    {
      "cell_type": "markdown",
      "source": [
        "Superponiendo el histograma de los retornos correspondientes a cada clúster podremos comprobar las diferencias entre cada clúster."
      ],
      "metadata": {
        "id": "HqcIer5ri1lN"
      }
    },
    {
      "cell_type": "code",
      "source": [
        "#HISTOGRAMAS SUPERPUESTOS DE LOS RETORNOS DE LOS CLÚSTERS\n",
        "\n",
        "#Generar histogramas\n",
        "plt.figure(figsize=(8, 4))\n",
        "plt.hist(df_forward[df_forward[\"Pred\"]==-1][\"Return\"], density=True, alpha=0.5, color=\"red\", label=\"DOWN\")\n",
        "plt.hist(df_forward[df_forward[\"Pred\"]==1][\"Return\"], density=True, alpha=0.5, color=\"green\", label=\"UP\")\n",
        "plt.xlabel(\"Retorno\")\n",
        "plt.ylabel(\"Densidad\")\n",
        "plt.title(\"UP vs DOWN\")\n",
        "plt.legend()\n",
        "plt.show()"
      ],
      "metadata": {
        "colab": {
          "base_uri": "https://localhost:8080/",
          "height": 410
        },
        "id": "hzM5cOzjeGAE",
        "outputId": "3ddda00b-fd4f-41ea-f1e9-9f38327dc66c"
      },
      "execution_count": null,
      "outputs": [
        {
          "output_type": "display_data",
          "data": {
            "text/plain": [
              "<Figure size 800x400 with 1 Axes>"
            ],
            "image/png": "[encoded data removed]"
          },
          "metadata": {}
        }
      ]
    },
    {
      "cell_type": "markdown",
      "source": [
        "##TEST ESTADÍSTICO"
      ],
      "metadata": {
        "id": "Hoq_yZLigmtJ"
      }
    },
    {
      "cell_type": "markdown",
      "source": [
        "Realizando el test de Kolmogorov-Smirnov podremos confirmar si los clústers son significativamente diferentes: el estadístico nos mostrará la magnitud de la diferencia y el p_value la fiabilidad del test."
      ],
      "metadata": {
        "id": "V0TShj0oi_eG"
      }
    },
    {
      "cell_type": "code",
      "source": [
        "#TEST DE KOLMOGOROV-SMIRNOV\n",
        "\n",
        "#Aplicar test de Kolmogorov-Smirnov\n",
        "statistic, p_value = ks_2samp(df_forward.loc[df_forward[\"Pred\"] == 1, \"Return\"],\n",
        "                              df_forward.loc[df_forward[\"Pred\"] == -1, \"Return\"])\n",
        "\n",
        "print(\"Estadístico:\", statistic)\n",
        "print(\"P_value:\", p_value)"
      ],
      "metadata": {
        "colab": {
          "base_uri": "https://localhost:8080/"
        },
        "id": "wYo5tlTghJUY",
        "outputId": "a1316b2d-f590-4e0a-b93f-4c465cbfffc5"
      },
      "execution_count": null,
      "outputs": [
        {
          "output_type": "stream",
          "name": "stdout",
          "text": [
            "Estadístico: 0.1874043132288733\n",
            "P_value: 1.9892925878260646e-07\n"
          ]
        }
      ]
    },
    {
      "cell_type": "markdown",
      "source": [
        "#CONCLUSIÓN"
      ],
      "metadata": {
        "id": "gwZlsZN6jj39"
      }
    },
    {
      "cell_type": "markdown",
      "source": [
        "Se ha podido comprobar visual y estadísticamente que un único indicador es suficiente para distinguir tendencias con clusterización.\n"
      ],
      "metadata": {
        "id": "DN_e1czPjnxU"
      }
    }
  ]
}